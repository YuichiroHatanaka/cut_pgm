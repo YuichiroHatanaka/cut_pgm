{
 "cells": [
  {
   "cell_type": "code",
   "execution_count": 1,
   "id": "92001056",
   "metadata": {},
   "outputs": [
    {
     "data": {
      "text/plain": [
       "True"
      ]
     },
     "execution_count": 1,
     "metadata": {},
     "output_type": "execute_result"
    }
   ],
   "source": [
    "from PIL import Image\n",
    "import numpy as np\n",
    "import cv2\n",
    "\n",
    "img = Image.open('map.pgm')   #読み込みたいマップ画像の名前\n",
    "\n",
    "width, height = img.size\n",
    "\n",
    "image_array = np.empty((height, width), dtype = int)\n",
    "\n",
    "for y in range(height):\n",
    "    for x in range(width):\n",
    "        image_array[y][x] = img.getpixel((x, y))\n",
    "\n",
    "\n",
    "n = 0\n",
    "a = image_array\n",
    "\n",
    "while True:\n",
    "\n",
    "    b = np.amin(a, axis=1)\n",
    "    \n",
    "    i = 0\n",
    "    while True:\n",
    "        i = i + 1   \n",
    "        if b[i] == 0:\n",
    "            break\n",
    "\n",
    "    d = np.delete(a, slice(0, i-10, 1), 0)\n",
    "    \n",
    "    n = n + 1  \n",
    "    a = np.rot90(d, n)\n",
    "     \n",
    "    if n == 4:\n",
    "        break\n",
    "\n",
    "cv2.imwrite('new.pgm',d)   #任意の名前"
   ]
  },
  {
   "cell_type": "markdown",
   "id": "20f40009",
   "metadata": {},
   "source": [
    "参考文献\n",
    "・NumPy配列ndarrayを回転するnp.rot90\n",
    
    "  https://note.nkmk.me/python-numpy-rot90/\n",
    "・break文を使った繰り返し処理の強制終了\n",
    "　https://www.javadrive.jp/python/for/index6.html\n",
    "・python for文を初心者向けに解説！for文基礎はこれで完璧\n",
    "　https://udemy.benesse.co.jp/development/python-work/python-for.html"
   ]
  }
 ],
 "metadata": {
  "kernelspec": {
   "display_name": "Python 3",
   "language": "python",
   "name": "python3"
  },
  "language_info": {
   "codemirror_mode": {
    "name": "ipython",
    "version": 3
   },
   "file_extension": ".py",
   "mimetype": "text/x-python",
   "name": "python",
   "nbconvert_exporter": "python",
   "pygments_lexer": "ipython3",
   "version": "3.8.8"
  }
 },
 "nbformat": 4,
 "nbformat_minor": 5
}
